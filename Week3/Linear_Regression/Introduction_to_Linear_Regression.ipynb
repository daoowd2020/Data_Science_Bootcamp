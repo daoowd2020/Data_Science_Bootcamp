{
  "nbformat": 4,
  "nbformat_minor": 0,
  "metadata": {
    "colab": {
      "name": "Introduction_to_Linear_Regression.ipynb",
      "provenance": [],
      "collapsed_sections": [],
      "include_colab_link": true
    },
    "kernelspec": {
      "display_name": "Python 3",
      "language": "python",
      "name": "python3"
    },
    "language_info": {
      "codemirror_mode": {
        "name": "ipython",
        "version": 3
      },
      "file_extension": ".py",
      "mimetype": "text/x-python",
      "name": "python",
      "nbconvert_exporter": "python",
      "pygments_lexer": "ipython3",
      "version": "3.7.3"
    }
  },
  "cells": [
    {
      "cell_type": "markdown",
      "metadata": {
        "id": "view-in-github",
        "colab_type": "text"
      },
      "source": [
        "<a href=\"https://colab.research.google.com/github/daoowd2020/Data_Science_Bootcamp/blob/master/Week3/Linear_Regression/Introduction_to_Linear_Regression.ipynb\" target=\"_parent\"><img src=\"https://colab.research.google.com/assets/colab-badge.svg\" alt=\"Open In Colab\"/></a>"
      ]
    },
    {
      "cell_type": "markdown",
      "metadata": {
        "id": "8d1NlWnV4YE8"
      },
      "source": [
        "*Please go through the module on Linear Regression before starting with this notebook.*"
      ]
    },
    {
      "cell_type": "markdown",
      "metadata": {
        "id": "XYxCBqraS5Yp"
      },
      "source": [
        "## Linear Regression Intuition\n",
        "Before we dive into the actual technique of Linear Regression, lets look at some intuition of it.\n",
        "\n",
        "Let’s say, I give you the following puzzle:\n",
        "\n",
        "Given the following values of X and Y, what is the value of Y when X = 5.\n",
        "\n",
        "(1,1), (2,2), (4,4), (100,100), (20, 20)\n",
        "\n",
        "The answer is : 5. Not very difficult, right?"
      ]
    },
    {
      "cell_type": "markdown",
      "metadata": {
        "id": "Xwew2jFKTEgv"
      },
      "source": [
        "Now, let’s take a look at different example. Say you have the following pairs of X and Y. Can you calculate the value of Y, when X = 5?\n",
        "\n",
        "(1,1), (2,4), (4,16), (100,10000), (20, 400)\n",
        "\n",
        "The answer is : 25. Was it difficult?"
      ]
    },
    {
      "cell_type": "markdown",
      "metadata": {
        "id": "KyEr2N6cTO1l"
      },
      "source": [
        "Let’s understand a bit as to what happened in the above examples. \n",
        "\n",
        "When we look at the first example, after looking at the given pairs, one can establish that the relationship between X and Y is Y = X. \n",
        "\n",
        "Similarly, in the second example, the relationship is Y = X*X.\n",
        "\n",
        "In these two examples, we can determine the relationship between two given variables (X and Y) because we could easily identify the relationship between them. Overall, machine learning works in the same way."
      ]
    },
    {
      "cell_type": "markdown",
      "metadata": {
        "id": "cx-ylUFzTcbu"
      },
      "source": [
        "Your computer looks at some examples and then tries to identify “the most suitable” relationship between the sets X and Y. Using this identified relationship, it will try to predict (or more) for new examples for which you don’t know Y.\n",
        "\n",
        "Keeping the above idea in mind, I will try to explain what is linear regression."
      ]
    },
    {
      "cell_type": "markdown",
      "metadata": {
        "id": "Y-zND2lHTlGT"
      },
      "source": [
        "## Regression\n",
        "Regression is usually termed as determining relationship(s) between two or more variables. \n",
        "\n",
        "For example, in the above two examples, X and Y are the variables. **X** is termed as the **independent variable** and **Y** is termed as the **dependent variable** (because its value is calculated using X).\n",
        "Also, Y has a continous range (unlike classification where Y is discrete).\n"
      ]
    },
    {
      "cell_type": "markdown",
      "metadata": {
        "id": "IWLyUvrmXZ6H"
      },
      "source": [
        "## Linear Regression/ Simple Linear Regression\n",
        "Simple Linear Regression (SLR) is termed as simple because there is only independent variable.\n",
        "\n",
        "Suppose we have a dataset which contains information about relationship between 'Years of experience' and 'Salary' in a particular work field.\n",
        "\n",
        "The **dependent variable could represent salary**. You could assume that level of experience will impact salary. So, you would label the **independent variable as experience**.\n",
        "\n",
        "Representing the experience with variable x and  salary with y, we can say that y ∝ x. ( y is proportional to x)."
      ]
    },
    {
      "cell_type": "markdown",
      "metadata": {
        "id": "JHz2ehdACJFN"
      },
      "source": [
        "However, a change in x does not usually mean an equal change in y.\n",
        "\n",
        "The **coefficient** can be thought of as a **multiplier that connects the independent and dependent variables.** It translates how much y will be affected by a unit change in x. \n",
        "\n",
        "Let's add a coefficient b1 to our example.\n",
        "\n",
        "We thus get y = b1*x"
      ]
    },
    {
      "cell_type": "markdown",
      "metadata": {
        "id": "qKk2itK7Gw3i"
      },
      "source": [
        "Now the salaries in a particular job always start with the base amount or the lowest possible salary. We thus need to take that constant in consideration. \n",
        "\n",
        "The constant b0 would be the starting salary for someone with a zero level of experience. Assuming every fresher in the company gets 30K as starting salary we can set it as the base price.\n",
        "\n",
        "Finally, we have:\n",
        "\n",
        "Salary = b0 + b1* Experience\n",
        "\n",
        "or\n",
        "\n",
        "y = b0 + b1*x\n",
        "\n",
        "This is similar to the equation of a straight line y= m*x +c"
      ]
    },
    {
      "cell_type": "markdown",
      "metadata": {
        "id": "N3FeQSFaH3SB"
      },
      "source": [
        "![Equation](https://miro.medium.com/max/1400/1*MgZkzHNM6lNTtrfhV6SRcA.png)"
      ]
    },
    {
      "cell_type": "markdown",
      "metadata": {
        "id": "v_nFb8ZRJTIX"
      },
      "source": [
        "Let's bring our theory into practice now!"
      ]
    },
    {
      "cell_type": "markdown",
      "metadata": {
        "id": "w_c7y3fqWuDX"
      },
      "source": [
        "## Objective\n",
        "The objective is to use linear regression to understand how years of experience impact Salary."
      ]
    },
    {
      "cell_type": "code",
      "metadata": {
        "id": "UEWLuXd7BMrU"
      },
      "source": [
        "# importing packages\n",
        "import numpy as np # to perform calculations \n",
        "import pandas as pd # to read data\n",
        "import matplotlib.pyplot as plt # to visualise"
      ],
      "execution_count": 1,
      "outputs": []
    },
    {
      "cell_type": "code",
      "metadata": {
        "id": "7zlSaTd2W9rt"
      },
      "source": [
        "#Loading the salary dataset\n",
        "data = pd.read_csv('https://raw.githubusercontent.com/dphi-official/Linear_Regression_Introduction/master/Salary_Data.csv')"
      ],
      "execution_count": 2,
      "outputs": []
    },
    {
      "cell_type": "code",
      "metadata": {
        "id": "k4C8FJ49BaPD",
        "colab": {
          "base_uri": "https://localhost:8080/",
          "height": 206
        },
        "outputId": "c43e31a4-24b1-4366-cc90-9b5503d9fa1c"
      },
      "source": [
        "#Let's have a look at what our data is like\n",
        "data.head()"
      ],
      "execution_count": 3,
      "outputs": [
        {
          "output_type": "execute_result",
          "data": {
            "text/plain": [
              "   YearsExperience   Salary\n",
              "0              1.1  39343.0\n",
              "1              1.3  46205.0\n",
              "2              1.5  37731.0\n",
              "3              2.0  43525.0\n",
              "4              2.2  39891.0"
            ],
            "text/html": [
              "\n",
              "  <div id=\"df-69f74dc4-8e0f-466d-b68d-394876f12fa2\">\n",
              "    <div class=\"colab-df-container\">\n",
              "      <div>\n",
              "<style scoped>\n",
              "    .dataframe tbody tr th:only-of-type {\n",
              "        vertical-align: middle;\n",
              "    }\n",
              "\n",
              "    .dataframe tbody tr th {\n",
              "        vertical-align: top;\n",
              "    }\n",
              "\n",
              "    .dataframe thead th {\n",
              "        text-align: right;\n",
              "    }\n",
              "</style>\n",
              "<table border=\"1\" class=\"dataframe\">\n",
              "  <thead>\n",
              "    <tr style=\"text-align: right;\">\n",
              "      <th></th>\n",
              "      <th>YearsExperience</th>\n",
              "      <th>Salary</th>\n",
              "    </tr>\n",
              "  </thead>\n",
              "  <tbody>\n",
              "    <tr>\n",
              "      <th>0</th>\n",
              "      <td>1.1</td>\n",
              "      <td>39343.0</td>\n",
              "    </tr>\n",
              "    <tr>\n",
              "      <th>1</th>\n",
              "      <td>1.3</td>\n",
              "      <td>46205.0</td>\n",
              "    </tr>\n",
              "    <tr>\n",
              "      <th>2</th>\n",
              "      <td>1.5</td>\n",
              "      <td>37731.0</td>\n",
              "    </tr>\n",
              "    <tr>\n",
              "      <th>3</th>\n",
              "      <td>2.0</td>\n",
              "      <td>43525.0</td>\n",
              "    </tr>\n",
              "    <tr>\n",
              "      <th>4</th>\n",
              "      <td>2.2</td>\n",
              "      <td>39891.0</td>\n",
              "    </tr>\n",
              "  </tbody>\n",
              "</table>\n",
              "</div>\n",
              "      <button class=\"colab-df-convert\" onclick=\"convertToInteractive('df-69f74dc4-8e0f-466d-b68d-394876f12fa2')\"\n",
              "              title=\"Convert this dataframe to an interactive table.\"\n",
              "              style=\"display:none;\">\n",
              "        \n",
              "  <svg xmlns=\"http://www.w3.org/2000/svg\" height=\"24px\"viewBox=\"0 0 24 24\"\n",
              "       width=\"24px\">\n",
              "    <path d=\"M0 0h24v24H0V0z\" fill=\"none\"/>\n",
              "    <path d=\"M18.56 5.44l.94 2.06.94-2.06 2.06-.94-2.06-.94-.94-2.06-.94 2.06-2.06.94zm-11 1L8.5 8.5l.94-2.06 2.06-.94-2.06-.94L8.5 2.5l-.94 2.06-2.06.94zm10 10l.94 2.06.94-2.06 2.06-.94-2.06-.94-.94-2.06-.94 2.06-2.06.94z\"/><path d=\"M17.41 7.96l-1.37-1.37c-.4-.4-.92-.59-1.43-.59-.52 0-1.04.2-1.43.59L10.3 9.45l-7.72 7.72c-.78.78-.78 2.05 0 2.83L4 21.41c.39.39.9.59 1.41.59.51 0 1.02-.2 1.41-.59l7.78-7.78 2.81-2.81c.8-.78.8-2.07 0-2.86zM5.41 20L4 18.59l7.72-7.72 1.47 1.35L5.41 20z\"/>\n",
              "  </svg>\n",
              "      </button>\n",
              "      \n",
              "  <style>\n",
              "    .colab-df-container {\n",
              "      display:flex;\n",
              "      flex-wrap:wrap;\n",
              "      gap: 12px;\n",
              "    }\n",
              "\n",
              "    .colab-df-convert {\n",
              "      background-color: #E8F0FE;\n",
              "      border: none;\n",
              "      border-radius: 50%;\n",
              "      cursor: pointer;\n",
              "      display: none;\n",
              "      fill: #1967D2;\n",
              "      height: 32px;\n",
              "      padding: 0 0 0 0;\n",
              "      width: 32px;\n",
              "    }\n",
              "\n",
              "    .colab-df-convert:hover {\n",
              "      background-color: #E2EBFA;\n",
              "      box-shadow: 0px 1px 2px rgba(60, 64, 67, 0.3), 0px 1px 3px 1px rgba(60, 64, 67, 0.15);\n",
              "      fill: #174EA6;\n",
              "    }\n",
              "\n",
              "    [theme=dark] .colab-df-convert {\n",
              "      background-color: #3B4455;\n",
              "      fill: #D2E3FC;\n",
              "    }\n",
              "\n",
              "    [theme=dark] .colab-df-convert:hover {\n",
              "      background-color: #434B5C;\n",
              "      box-shadow: 0px 1px 3px 1px rgba(0, 0, 0, 0.15);\n",
              "      filter: drop-shadow(0px 1px 2px rgba(0, 0, 0, 0.3));\n",
              "      fill: #FFFFFF;\n",
              "    }\n",
              "  </style>\n",
              "\n",
              "      <script>\n",
              "        const buttonEl =\n",
              "          document.querySelector('#df-69f74dc4-8e0f-466d-b68d-394876f12fa2 button.colab-df-convert');\n",
              "        buttonEl.style.display =\n",
              "          google.colab.kernel.accessAllowed ? 'block' : 'none';\n",
              "\n",
              "        async function convertToInteractive(key) {\n",
              "          const element = document.querySelector('#df-69f74dc4-8e0f-466d-b68d-394876f12fa2');\n",
              "          const dataTable =\n",
              "            await google.colab.kernel.invokeFunction('convertToInteractive',\n",
              "                                                     [key], {});\n",
              "          if (!dataTable) return;\n",
              "\n",
              "          const docLinkHtml = 'Like what you see? Visit the ' +\n",
              "            '<a target=\"_blank\" href=https://colab.research.google.com/notebooks/data_table.ipynb>data table notebook</a>'\n",
              "            + ' to learn more about interactive tables.';\n",
              "          element.innerHTML = '';\n",
              "          dataTable['output_type'] = 'display_data';\n",
              "          await google.colab.output.renderOutput(dataTable, element);\n",
              "          const docLink = document.createElement('div');\n",
              "          docLink.innerHTML = docLinkHtml;\n",
              "          element.appendChild(docLink);\n",
              "        }\n",
              "      </script>\n",
              "    </div>\n",
              "  </div>\n",
              "  "
            ]
          },
          "metadata": {},
          "execution_count": 3
        }
      ]
    },
    {
      "cell_type": "markdown",
      "metadata": {
        "id": "jOAV8pIdK96F"
      },
      "source": [
        "## Plotting the Data"
      ]
    },
    {
      "cell_type": "markdown",
      "metadata": {
        "id": "afk-xYG9TilK"
      },
      "source": [
        "Let’s plot our data points on a 2-D graph to eyeball our dataset(get a rough overview) and see if we can manually find any relationship between the data."
      ]
    },
    {
      "cell_type": "code",
      "metadata": {
        "id": "jQCucd83K9DG",
        "colab": {
          "base_uri": "https://localhost:8080/",
          "height": 282
        },
        "outputId": "610e559d-21c2-4d94-a8d2-1f37516475db"
      },
      "source": [
        "# Scatter plot helps in visualising the data distribution\n",
        "plt.plot(data.YearsExperience, data.Salary,'rx')"
      ],
      "execution_count": 4,
      "outputs": [
        {
          "output_type": "execute_result",
          "data": {
            "text/plain": [
              "[<matplotlib.lines.Line2D at 0x7f452fc2d1d0>]"
            ]
          },
          "metadata": {},
          "execution_count": 4
        },
        {
          "output_type": "display_data",
          "data": {
            "text/plain": [
              "<Figure size 432x288 with 1 Axes>"
            ],
            "image/png": "[encoded data removed]"
          },
          "metadata": {
            "needs_background": "light"
          }
        }
      ]
    },
    {
      "cell_type": "markdown",
      "metadata": {
        "id": "u7uUycDxW-Jw"
      },
      "source": [
        "As you can see, there is a clear relationship between the years of experience and salary."
      ]
    },
    {
      "cell_type": "markdown",
      "metadata": {
        "id": "GhXicalATwLX"
      },
      "source": [
        "# Setting variables\n",
        "Our next step is to divide the data into “attributes” and “labels” or as you've already known as input and target variables.\n",
        "\n",
        "In our dataset, we only have two columns. We want to predict the Salary depending upon the Years of Experience recorded. Therefore our attribute set will consist of the “YearsExperience” column which is stored in the X variable, and the label will be the “Salary” column which is stored in y variable."
      ]
    },
    {
      "cell_type": "code",
      "metadata": {
        "id": "699Bh6VPUFKb"
      },
      "source": [
        "X = data[['YearsExperience']]\n",
        "y = data['Salary']"
      ],
      "execution_count": null,
      "outputs": []
    },
    {
      "cell_type": "markdown",
      "metadata": {
        "id": "GeJohYny3LNH"
      },
      "source": [
        "If you are wondering why a capital X is used for features, and lowercase y for labels, it is mainly due to convention."
      ]
    },
    {
      "cell_type": "markdown",
      "metadata": {
        "id": "QgXPagiS3YKz"
      },
      "source": [
        "# Splitting the data"
      ]
    },
    {
      "cell_type": "markdown",
      "metadata": {
        "id": "4vOkLlB-Ukjn"
      },
      "source": [
        "Next, we split 80% of the data to the training set while 20% of the data to test set using below code.\n",
        "The test_size variable is where we actually specify the proportion of the test set.\n",
        "\n",
        "By passing our X and y variables into the train_test_split method, we are able to capture the splits in data by assigning 4 variables to the result."
      ]
    },
    {
      "cell_type": "code",
      "metadata": {
        "id": "1a1OFJmpUl2u"
      },
      "source": [
        "# import SK Learn train test split\n",
        "from sklearn.model_selection import train_test_split \n",
        "\n",
        "# Assign variables to capture train test split output\n",
        "X_train, X_test, y_train, y_test = train_test_split(X, y, test_size=0.3, random_state=47)"
      ],
      "execution_count": null,
      "outputs": []
    },
    {
      "cell_type": "markdown",
      "metadata": {
        "id": "jvUH0MAtNI4d"
      },
      "source": [
        "# Understanding the working of Linear Regression\n",
        "\n",
        "The term “linearity” in algebra refers to a linear relationship between two or more variables. If we draw this relationship in a two-dimensional space (between two variables), we get a straight line.\n",
        "\n",
        "If we plot the independent variable (x) on the x-axis and dependent variable (y) on the y-axis, linear regression gives us a straight line that \"best fits\" the data points.It’s impossible to connect all the marks with a straight line, so you use a best fitting line. \n",
        "\n",
        "The equation for this line would be the result of your simple linear regression(Remember the equation y= b0 + b1*x that we just derived?). The regression finds the best fitting line.\n",
        "\n",
        "Now, how do you find the best fitting line? Since our data points(values of x and y) will remain constant for a particular dataset, we can only alter b0 and b1.\n",
        "\n",
        "**Our objective is to find the values of b0 and b1 that will best fit this data.**\n",
        "\n",
        "These 2 variables/coefficients are actually called **hyperparameters**. In machine learning, a hyperparameter is a parameter whose value is used to control the learning process. And we must always try to find some optimal parameters while building a machine learning model.\n",
        "\n",
        "This line is your **regression model**."
      ]
    },
    {
      "cell_type": "markdown",
      "metadata": {
        "id": "N8Sh3OtwOdDw"
      },
      "source": [
        "To perform Linear Regression quickly, we will be using the library scikit-learn. If you don’t have it already you can install it using pip:\n",
        "\n",
        "\n",
        "```\n",
        "pip install scikit-learn \n",
        "```\n",
        "\n"
      ]
    },
    {
      "cell_type": "markdown",
      "metadata": {
        "id": "CwotIN0AU3Ci"
      },
      "source": [
        "# Training our model\n",
        "\n",
        "After splitting the data into training and testing sets, finally, the time is to train our algorithm. Firstly, importing of sklearn.linear_model is required for us to access LinearRegression. It then needs to be instantiated and model fit to our training data. This is seen below."
      ]
    },
    {
      "cell_type": "code",
      "metadata": {
        "id": "0aBmpZc-OG46"
      },
      "source": [
        "from sklearn.linear_model import LinearRegression"
      ],
      "execution_count": null,
      "outputs": []
    },
    {
      "cell_type": "code",
      "metadata": {
        "id": "GUoc8UA4PEnx",
        "colab": {
          "base_uri": "https://localhost:8080/",
          "height": 34
        },
        "outputId": "bb99f7ff-3aed-40d8-8c19-7568dd30f38f"
      },
      "source": [
        "linear_regressor = LinearRegression()  # create object for the class\n",
        "\n",
        "#fit model to our training data i.e learn coefficients\n",
        "linear_regressor.fit(X_train, y_train) "
      ],
      "execution_count": null,
      "outputs": [
        {
          "output_type": "execute_result",
          "data": {
            "text/plain": [
              "LinearRegression(copy_X=True, fit_intercept=True, n_jobs=None, normalize=False)"
            ]
          },
          "metadata": {
            "tags": []
          },
          "execution_count": 8
        }
      ]
    },
    {
      "cell_type": "markdown",
      "metadata": {
        "id": "ac60llI46MYA"
      },
      "source": [
        "# Interpreting Coefficients\n",
        "The coefficients(b0 and b1) will allow us to model our equation with values and find the best fit line. The linear_regressor variable (assigned to a LinearRegression object), is able to have the intercept and coefficients extracted, using the code below."
      ]
    },
    {
      "cell_type": "code",
      "metadata": {
        "id": "eMwzIRAd6h_c",
        "colab": {
          "base_uri": "https://localhost:8080/",
          "height": 51
        },
        "outputId": "5b4c0ac9-b5ab-4246-a46a-6b42dab28767"
      },
      "source": [
        "# prints y-intercept\n",
        "print(linear_regressor.intercept_)\n",
        "\n",
        "# prints the coefficient\n",
        "print(linear_regressor.coef_)"
      ],
      "execution_count": null,
      "outputs": [
        {
          "output_type": "stream",
          "text": [
            "25789.060767971714\n",
            "[9479.09167874]\n"
          ],
          "name": "stdout"
        }
      ]
    },
    {
      "cell_type": "markdown",
      "metadata": {
        "id": "dKv9fOH-7KwD"
      },
      "source": [
        "The intercept will be your b0 value; and coefficient will be b1."
      ]
    },
    {
      "cell_type": "markdown",
      "metadata": {
        "id": "40gnRRSDVOH7"
      },
      "source": [
        "# Making predictions based on your model\n",
        "Now that we have trained our algorithm, it’s time to make some predictions. To do so, we will use our test data and see how accurately our algorithm predicts the salaries. \n",
        "\n",
        "Making predictions based on your model is as simple as using the code below: passing the predict method your test data. This will return predicted values of y given the new test X data."
      ]
    },
    {
      "cell_type": "code",
      "metadata": {
        "id": "ognJglSBVO6v"
      },
      "source": [
        "y_pred = linear_regressor.predict(X_test)  # make predictions"
      ],
      "execution_count": null,
      "outputs": []
    },
    {
      "cell_type": "markdown",
      "metadata": {
        "id": "mGs81y8KQE24"
      },
      "source": [
        "We have our predictions in y_pred. Now lets visualize the data set and the regression line with the test data:"
      ]
    },
    {
      "cell_type": "code",
      "metadata": {
        "id": "D5JfOaTBQGaJ",
        "colab": {
          "base_uri": "https://localhost:8080/",
          "height": 265
        },
        "outputId": "70edb51a-d777-4e2d-dc19-5389c6a9ab9c"
      },
      "source": [
        "plt.plot(X_test, y_test,'rx')\n",
        "plt.plot(X_test, y_pred, color='black')\n",
        "plt.show()"
      ],
      "execution_count": null,
      "outputs": [
        {
          "output_type": "display_data",
          "data": {
            "image/png": "[encoded data removed]",
            "text/plain": [
              "<Figure size 432x288 with 1 Axes>"
            ]
          },
          "metadata": {
            "tags": [],
            "needs_background": "light"
          }
        }
      ]
    },
    {
      "cell_type": "markdown",
      "metadata": {
        "id": "WrGjcLi1YcsY"
      },
      "source": [
        "As you can see, the algorithm has drawn a line that passes through the maximum test data points and has the minimum distance from the others. This line is known as the \"best-fit\" or the regression line. \n",
        "\n",
        "Since this line has a positive slope, we can say that the salary increases as no. of years of experience increase."
      ]
    },
    {
      "cell_type": "markdown",
      "metadata": {
        "id": "9e3K6wjMISUP"
      },
      "source": [
        "![Simple Linear Regression](https://i0.wp.com/brokerstir.com/wp-content/uploads/2018/03/simple_linear_2.png)"
      ]
    },
    {
      "cell_type": "markdown",
      "metadata": {
        "id": "LkhXMY_9Zkvc"
      },
      "source": [
        "Using this line, you can even compute the salaries for the years of experience not present in the dataset by finding the corresponding value of y on the line.\n",
        "\n",
        "![Prediction](https://miro.medium.com/max/1400/1*ANtsE4kMZDAqueFPVk1jmg.jpeg)"
      ]
    },
    {
      "cell_type": "markdown",
      "metadata": {
        "id": "KLvphULKwpUz"
      },
      "source": [
        "# Model Evaluation\n",
        "There are three primary metrics used to evaluate linear models. These are: Mean absolute error (MAE), Mean squared error (MSE), or Root mean squared error (RMSE)."
      ]
    },
    {
      "cell_type": "code",
      "metadata": {
        "id": "QwhqScAXwpU1",
        "colab": {
          "base_uri": "https://localhost:8080/",
          "height": 68
        },
        "outputId": "aad63667-f24e-47cc-c6c7-9cd81fef16b3"
      },
      "source": [
        "# import metrics library\n",
        "from sklearn import metrics\n",
        "\n",
        "# print result of MAE\n",
        "print(metrics.mean_absolute_error(y_test, y_pred))\n",
        "\n",
        "#print result of MSE\n",
        "print(metrics.mean_squared_error(y_test, y_pred))\n",
        "\n",
        "#print result of RMSE\n",
        "print(np.sqrt(metrics.mean_squared_error(y_test, y_pred)))"
      ],
      "execution_count": null,
      "outputs": [
        {
          "output_type": "stream",
          "text": [
            "2450.548521354496\n",
            "9961725.246016478\n",
            "3156.220088336122\n"
          ],
          "name": "stdout"
        }
      ]
    },
    {
      "cell_type": "markdown",
      "metadata": {
        "id": "3yo0aCl4wpU6"
      },
      "source": [
        "We'll be discussing about each of these metrics/performance parameters in detail soon."
      ]
    },
    {
      "cell_type": "markdown",
      "metadata": {
        "id": "fJYO_QkuY7za"
      },
      "source": [
        "\n",
        "Congratulations! You've successfully completed your objective and created your own Linear Regression model."
      ]
    }
  ]
}